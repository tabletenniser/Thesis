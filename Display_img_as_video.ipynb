{
 "cells": [
  {
   "cell_type": "code",
   "execution_count": 8,
   "metadata": {
    "collapsed": false
   },
   "outputs": [],
   "source": [
    "%matplotlib inline\n",
    "import matplotlib.pyplot as plt\n",
    "import numpy as np\n",
    "import os\n",
    "import PIL\n",
    "from PIL import ImageFont\n",
    "from PIL import Image\n",
    "from PIL import ImageDraw\n",
    "import shutil"
   ]
  },
  {
   "cell_type": "code",
   "execution_count": 22,
   "metadata": {
    "collapsed": false
   },
   "outputs": [
    {
     "name": "stdout",
     "output_type": "stream",
     "text": [
      "labels length:160\n"
     ]
    }
   ],
   "source": [
    "src_dir = './point_00125/'\n",
    "dest_dir = './point_00125_with_labels'\n",
    "label_file = './point_00125.label'\n",
    "\n",
    "if not os.path.exists(dest_dir):\n",
    "    os.mkdir(dest_dir)\n",
    "\n",
    "labels = []\n",
    "with open(label_file) as f:\n",
    "    for line in f:\n",
    "        label = line.split('; ')\n",
    "        if len(label) == 3:\n",
    "            labels.append(label)\n",
    "            \n",
    "print 'labels length:%d'%(len(labels))\n",
    "frames = os.listdir(src_dir)\n",
    "frames.sort()\n",
    "i = 0\n",
    "for frame in frames:\n",
    "    if 'png' not in frame:\n",
    "        continue\n",
    "    \n",
    "    font = ImageFont.truetype(\"./BEBAS___.ttf\",25)\n",
    "    img = Image.open(os.path.join(src_dir, frame))\n",
    "    draw = ImageDraw.Draw(img)\n",
    "    if labels[i][1].split(':')[1].strip() == labels[i][2].split(':')[1].strip():\n",
    "        draw.text((0, 0), labels[i][0],(0,255,0),font=font)\n",
    "        draw.text((0, 40), labels[i][1],(0,255,0),font=font)\n",
    "        draw.text((0, 80), labels[i][2],(0,255,0),font=font)\n",
    "    else:\n",
    "        draw.text((0, 0), labels[i][0],(255,0,0),font=font)\n",
    "        draw.text((0, 40), labels[i][1],(255,0,0),font=font)\n",
    "        draw.text((0, 80), labels[i][2],(255,0,0),font=font)\n",
    "    img.save(os.path.join(dest_dir, frame))\n",
    "    \n",
    "    i += 1   "
   ]
  },
  {
   "cell_type": "code",
   "execution_count": 23,
   "metadata": {
    "collapsed": false
   },
   "outputs": [
    {
     "name": "stdout",
     "output_type": "stream",
     "text": [
      "1125\n",
      "ffmpeg -r 10 -start_number 1125 -i ./point_00125_with_labels/frame_%05d.png -vcodec mpeg4 ./point_00125_visualization.avi\n"
     ]
    },
    {
     "data": {
      "text/plain": [
       "0"
      ]
     },
     "execution_count": 23,
     "metadata": {},
     "output_type": "execute_result"
    }
   ],
   "source": [
    "output_video = './point_00125_visualization.avi'\n",
    "\n",
    "#shutil.copytree(src, dest)\n",
    "allnames = os.listdir(dest_dir)\n",
    "allnames.sort()\n",
    "first_frame = allnames[1]\n",
    "start_ind = int(first_frame[first_frame.find('_')+1: first_frame.find('.')])\n",
    "print start_ind\n",
    "\n",
    "input_imgs = os.path.join(dest_dir, 'frame_%05d.png')\n",
    "#output_video = os.path.join(dest, src[2:-1]+'.avi')\n",
    "cmd = 'ffmpeg -r 10 -start_number '+str(start_ind)+' -i '+input_imgs+' -vcodec mpeg4 '+output_video\n",
    "print cmd\n",
    "os.system(cmd)"
   ]
  },
  {
   "cell_type": "code",
   "execution_count": 14,
   "metadata": {
    "collapsed": false
   },
   "outputs": [],
   "source": []
  }
 ],
 "metadata": {
  "kernelspec": {
   "display_name": "Python 2",
   "language": "python",
   "name": "python2"
  },
  "language_info": {
   "codemirror_mode": {
    "name": "ipython",
    "version": 2
   },
   "file_extension": ".py",
   "mimetype": "text/x-python",
   "name": "python",
   "nbconvert_exporter": "python",
   "pygments_lexer": "ipython2",
   "version": "2.7.11"
  }
 },
 "nbformat": 4,
 "nbformat_minor": 0
}
