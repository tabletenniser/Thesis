{
 "cells": [
  {
   "cell_type": "code",
   "execution_count": 5,
   "metadata": {
    "collapsed": false
   },
   "outputs": [],
   "source": [
    "%matplotlib inline\n",
    "import matplotlib.pyplot as plt\n",
    "import numpy as np\n",
    "import os\n",
    "import shutil"
   ]
  },
  {
   "cell_type": "code",
   "execution_count": 6,
   "metadata": {
    "collapsed": false
   },
   "outputs": [
    {
     "name": "stdout",
     "output_type": "stream",
     "text": [
      "1124\n",
      "ffmpeg -r 10 -start_number 1124 -i ./point_00125/frame_%05d.png -vcodec mpeg4 ./label_visualization/point_00125.avi\n"
     ]
    },
    {
     "data": {
      "text/plain": [
       "0"
      ]
     },
     "execution_count": 6,
     "metadata": {},
     "output_type": "execute_result"
    }
   ],
   "source": [
    "src = './point_00125/'\n",
    "dest = './label_visualization/'\n",
    "#shutil.copytree(src, dest)\n",
    "allnames = os.listdir(src)\n",
    "allnames.sort()\n",
    "first_frame = allnames[1]\n",
    "start_ind = int(first_frame[first_frame.find('_')+1: first_frame.find('.')])\n",
    "print start_ind\n",
    "\n",
    "input_imgs = os.path.join(src, 'frame_%05d.png')\n",
    "output_video = os.path.join(dest, src[2:-1]+'.avi')\n",
    "cmd = 'ffmpeg -r 10 -start_number '+str(start_ind)+' -i '+input_imgs+' -vcodec mpeg4 '+output_video\n",
    "print cmd\n",
    "os.system(cmd)"
   ]
  },
  {
   "cell_type": "code",
   "execution_count": 14,
   "metadata": {
    "collapsed": false
   },
   "outputs": [],
   "source": []
  }
 ],
 "metadata": {
  "kernelspec": {
   "display_name": "Python 2",
   "language": "python",
   "name": "python2"
  },
  "language_info": {
   "codemirror_mode": {
    "name": "ipython",
    "version": 2
   },
   "file_extension": ".py",
   "mimetype": "text/x-python",
   "name": "python",
   "nbconvert_exporter": "python",
   "pygments_lexer": "ipython2",
   "version": "2.7.11"
  }
 },
 "nbformat": 4,
 "nbformat_minor": 0
}
