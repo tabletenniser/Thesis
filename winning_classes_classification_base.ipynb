{
 "cells": [
  {
   "cell_type": "code",
   "execution_count": 1,
   "metadata": {
    "collapsed": false
   },
   "outputs": [
    {
     "name": "stderr",
     "output_type": "stream",
     "text": [
      "/usr/lib/pymodules/python2.7/matplotlib/__init__.py:1173: UserWarning:  This call to matplotlib.use() has no effect\n",
      "because the backend has already been chosen;\n",
      "matplotlib.use() must be called *before* pylab, matplotlib.pyplot,\n",
      "or matplotlib.backends is imported for the first time.\n",
      "\n",
      "  warnings.warn(_use_error_msg)\n"
     ]
    }
   ],
   "source": [
    "%matplotlib inline\n",
    "import matplotlib\n",
    "import matplotlib.pyplot as plt\n",
    "matplotlib.use('Agg')\n",
    "from sklearn import svm, cross_validation\n",
    "import pylab as pl\n",
    "from PIL import Image\n",
    "import numpy as np\n",
    "import os"
   ]
  },
  {
   "cell_type": "code",
   "execution_count": 2,
   "metadata": {
    "collapsed": false
   },
   "outputs": [
    {
     "name": "stdout",
     "output_type": "stream",
     "text": [
      "Downloading pre-trained CaffeNet model...\n",
      "Model already exists.\n"
     ]
    }
   ],
   "source": [
    "# Make sure that caffe is on the python path:\n",
    "caffe_root = '/u/zexuan/caffe/caffe/'  # this file is expected to be in {caffe_root}/examples\n",
    "caffe_real_root = '/pkgs/caffe/'\n",
    "thesis_root = '/ais/gobi2/pingpong/thesis/'\n",
    "#!ls /pkgs/caffe\n",
    "import sys\n",
    "sys.path.insert(0, caffe_real_root + 'python')\n",
    "import caffe\n",
    "\n",
    "plt.rcParams['figure.figsize'] = (10, 10)\n",
    "plt.rcParams['image.interpolation'] = 'nearest'\n",
    "plt.rcParams['image.cmap'] = 'gray'\n",
    "\n",
    "if not os.path.isfile('~/caffe/caffe/models/bvlc_reference_caffenet/bvlc_reference_caffenet.caffemodel'):\n",
    "    print(\"Downloading pre-trained CaffeNet model...\")\n",
    "    !~/caffe/caffe/scripts/download_model_binary.py ~/caffe/caffe/models/bvlc_reference_caffenet"
   ]
  },
  {
   "cell_type": "code",
   "execution_count": 3,
   "metadata": {
    "collapsed": true
   },
   "outputs": [],
   "source": [
    "caffe.set_device(0)\n",
    "caffe.set_mode_gpu()"
   ]
  },
  {
   "cell_type": "code",
   "execution_count": 4,
   "metadata": {
    "collapsed": false
   },
   "outputs": [
    {
     "name": "stdout",
     "output_type": "stream",
     "text": [
      "/u/zexuan/caffe/caffe/models/bvlc_reference_caffenet/deploy.prototxt\n",
      "(10, 3, 227, 227)\n"
     ]
    },
    {
     "data": {
      "text/plain": [
       "[('data', (10, 3, 227, 227)),\n",
       " ('conv1', (10, 96, 55, 55)),\n",
       " ('pool1', (10, 96, 27, 27)),\n",
       " ('norm1', (10, 96, 27, 27)),\n",
       " ('conv2', (10, 256, 27, 27)),\n",
       " ('pool2', (10, 256, 13, 13)),\n",
       " ('norm2', (10, 256, 13, 13)),\n",
       " ('conv3', (10, 384, 13, 13)),\n",
       " ('conv4', (10, 384, 13, 13)),\n",
       " ('conv5', (10, 256, 13, 13)),\n",
       " ('pool5', (10, 256, 6, 6)),\n",
       " ('fc6', (10, 4096)),\n",
       " ('fc7', (10, 4096)),\n",
       " ('fc8', (10, 1000)),\n",
       " ('prob', (10, 1000))]"
      ]
     },
     "execution_count": 4,
     "metadata": {},
     "output_type": "execute_result"
    }
   ],
   "source": [
    "# MODEL_FILE = caffe_root +'models/bvlc_reference_caffenet/deploy.prototxt'\n",
    "# PRETRAINED = caffe_root +'models/bvlc_reference_caffenet/bvlc_reference_caffenet.caffemodel'\n",
    "# caffe.set_mode_cpu()\n",
    "# net = caffe.Classifier(MODEL_FILE, PRETRAINED,\n",
    "#                        mean=np.load(caffe_root + 'python/caffe/imagenet/ilsvrc_2012_mean.npy').mean(1).mean(1),\n",
    "#                        channel_swap=(2,1,0),\n",
    "#                        raw_scale=255,\n",
    "#                        image_dims=(600, 600))\n",
    "# print net.blobs['data'].data.shape\n",
    "# [(k, v.data.shape) for k, v in net.blobs.items()]\n",
    "\n",
    "\n",
    "# caffe.set_mode_cpu()\n",
    "print caffe_root + 'models/bvlc_reference_caffenet/deploy.prototxt'\n",
    "#!ls caffe_root+'models/bvlc_reference_caffenet/deploy.prototxt'\n",
    "net = caffe.Net(caffe_root + 'models/bvlc_reference_caffenet/deploy.prototxt',\n",
    "                caffe_root + 'models/bvlc_reference_caffenet/bvlc_reference_caffenet.caffemodel',\n",
    "                caffe.TEST)\n",
    "\n",
    "# input preprocessing: 'data' is the name of the input blob == net.inputs[0]\n",
    "transformer = caffe.io.Transformer({'data': net.blobs['data'].data.shape})\n",
    "transformer.set_transpose('data', (2,0,1))\n",
    "transformer.set_mean('data', np.load(caffe_root + 'python/caffe/imagenet/ilsvrc_2012_mean.npy').mean(1).mean(1)) # mean pixel\n",
    "transformer.set_raw_scale('data', 255)  # the reference model operates on images in [0,255] range instead of [0,1]\n",
    "transformer.set_channel_swap('data', (2,1,0))  # the reference model has channels in BGR order instead of RGB\n",
    "print net.blobs['data'].data.shape\n",
    "[(k, v.data.shape) for k, v in net.blobs.items()]"
   ]
  },
  {
   "cell_type": "code",
   "execution_count": 5,
   "metadata": {
    "collapsed": false
   },
   "outputs": [
    {
     "name": "stdout",
     "output_type": "stream",
     "text": [
      "folders:  ['C21_TOP_PLAYER_UNDER_NET_selected', 'C22_TOP_PLAYER_HIT_OUT_selected', 'C23_TOP_PLAYER_FOREHAND_MISS_HIT_selected', 'C24_TOP_PLAYER_BACKHAND_MISS_HIT_selected', 'C25_BOTTOM_PLAYER_UNDER_NET_selected', 'C26_BOTTOM_PLAYER_HIT_OUT_selected', 'C27_BOTTOM_PLAYER_FOREHAND_MISS_HIT_selected', 'C28_BOTTOM_PLAYER_BACKHAND_MISS_HIT_selected']\n",
      "Total time loading training data:  41.7512168884  seconds\n",
      "number of images:  1010\n"
     ]
    }
   ],
   "source": [
    "import skimage\n",
    "import skimage.io\n",
    "import time\n",
    "\n",
    "start_time = time.time()\n",
    "training_set = {}\n",
    "training_set['target'] = []\n",
    "container_path = 'labeled_img_selected_winning_classes/'\n",
    "\n",
    "folders = [f for f in sorted(os.listdir(container_path)) if os.path.isdir(os.path.join(container_path, f))]\n",
    "print 'folders: ', folders\n",
    "\n",
    "result = []\n",
    "for folder in folders:\n",
    "    folder_path = os.path.join(container_path, folder)\n",
    "    documents = [os.path.join(folder_path, d) for d in sorted(os.listdir(folder_path))]\n",
    "    input_10_imgs = []\n",
    "    for pic in documents:\n",
    "        if not pic.endswith('png'):\n",
    "            continue\n",
    "        img = skimage.img_as_float(skimage.io.imread(pic)).astype(np.float32)\n",
    "        input_10_imgs.append(img)\n",
    "        if len(input_10_imgs) >= 10:\n",
    "            #net.blobs['data'].data[...] = transformer.preprocess('data', training_set['data'][0])\n",
    "            #net.blobs['data'].data[...] = map(lambda x: transformer.preprocess('data', x), training_set['data'][i:i+10])\n",
    "            net.blobs['data'].data[...] = map(lambda x: transformer.preprocess('data', x), input_10_imgs)\n",
    "            out = net.forward()\n",
    "            result.append(np.mean(net.blobs['fc6'].data, axis=0))\n",
    "            input_10_imgs = []\n",
    "        training_set['target'].append(folder)\n",
    "#training_set['data']=data\n",
    "#training_set['target']=target\n",
    "print 'Total time loading training data: ', time.time()-start_time, ' seconds'\n",
    "print 'number of images: ', len(training_set['target'])\n",
    "#print 'dmensionality of each image: ', input_10_imgs[0].shape"
   ]
  },
  {
   "cell_type": "code",
   "execution_count": 6,
   "metadata": {
    "collapsed": false
   },
   "outputs": [
    {
     "name": "stdout",
     "output_type": "stream",
     "text": [
      "folders:  ['C21_TOP_PLAYER_UNDER_NET_selected', 'C22_TOP_PLAYER_HIT_OUT_selected', 'C23_TOP_PLAYER_FOREHAND_MISS_HIT_selected', 'C24_TOP_PLAYER_BACKHAND_MISS_HIT_selected', 'C25_BOTTOM_PLAYER_UNDER_NET_selected', 'C26_BOTTOM_PLAYER_HIT_OUT_selected', 'C27_BOTTOM_PLAYER_FOREHAND_MISS_HIT_selected', 'C28_BOTTOM_PLAYER_BACKHAND_MISS_HIT_selected']\n",
      "Total time loading training data:  8.52292490005  seconds\n",
      "number of images:  230\n"
     ]
    }
   ],
   "source": [
    "start_time = time.time()\n",
    "testing_set = {}\n",
    "testing_set['target'] = []\n",
    "container_path = 'labeled_img_selected_winning_classes_testset/'\n",
    "\n",
    "folders = [f for f in sorted(os.listdir(container_path)) if os.path.isdir(os.path.join(container_path, f))]\n",
    "print 'folders: ', folders\n",
    "\n",
    "for folder in folders:\n",
    "    folder_path = os.path.join(container_path, folder)\n",
    "    documents = [os.path.join(folder_path, d) for d in sorted(os.listdir(folder_path))]\n",
    "    input_10_imgs = []\n",
    "    for pic in documents:\n",
    "        if not pic.endswith('png'):\n",
    "            continue\n",
    "        img = skimage.img_as_float(skimage.io.imread(pic)).astype(np.float32)\n",
    "        input_10_imgs.append(img)\n",
    "        if len(input_10_imgs) >= 10:\n",
    "            #net.blobs['data'].data[...] = transformer.preprocess('data', training_set['data'][0])\n",
    "            #net.blobs['data'].data[...] = map(lambda x: transformer.preprocess('data', x), training_set['data'][i:i+10])\n",
    "            net.blobs['data'].data[...] = map(lambda x: transformer.preprocess('data', x), input_10_imgs)\n",
    "            out = net.forward()\n",
    "            result.append(np.mean(net.blobs['fc6'].data, axis=0))\n",
    "            input_10_imgs = []\n",
    "        testing_set['target'].append(folder)\n",
    "#training_set['data']=data\n",
    "#training_set['target']=target\n",
    "print 'Total time loading training data: ', time.time()-start_time, ' seconds'\n",
    "print 'number of images: ', len(testing_set['target'])\n",
    "#print 'dmensionality of each image: ', input_10_imgs[0].shape"
   ]
  },
  {
   "cell_type": "code",
   "execution_count": 7,
   "metadata": {
    "collapsed": false
   },
   "outputs": [
    {
     "name": "stdout",
     "output_type": "stream",
     "text": [
      "Number of input to SVM:  124 Size of each input (4096,)\n",
      "(227, 227, 3)\n",
      "Sample image from the training set\n"
     ]
    }
   ],
   "source": [
    "# print caffe.io.load_image(thesis_root + 'labeled_image_selected/bottom_player_winning_selected/point_00001_frame_00033.png').shape\n",
    "# print caffe.io.load_image(thesis_root + 'labeled_image_selected/bottom_player_winning_selected/point_00001_frame_00033.png')[0][0]\n",
    "# print training_set['data'][0][0][0]\n",
    "\n",
    "'''\n",
    "result = []\n",
    "#for i in xrange(2200, 2300,10):\n",
    "for i in xrange(0, traning_set_size, 10):\n",
    "    #net.blobs['data'].data[...] = transformer.preprocess('data', training_set['data'][0])\n",
    "    net.blobs['data'].data[...] = map(lambda x: transformer.preprocess('data', x), training_set['data'][i:i+10])\n",
    "    out = net.forward()\n",
    "    #print net.blobs['fc7'].data.shape\n",
    "    result.append(np.mean(net.blobs['fc6'].data, axis=0))\n",
    "'''\n",
    "\n",
    "print 'Number of input to SVM: ', len(result), 'Size of each input', result[0].shape\n",
    "\n",
    "print transformer.deprocess('data', net.blobs['data'].data[0]).shape\n",
    "print 'Sample image from the training set'\n",
    "#plt.imshow(transformer.deprocess('data', net.blobs['data'].data[4]))"
   ]
  },
  {
   "cell_type": "code",
   "execution_count": 8,
   "metadata": {
    "collapsed": true
   },
   "outputs": [],
   "source": [
    "import pickle\n",
    "\n",
    "#pickle.dump(result, open(\"nn_result_fc6_unnormalized_clf_7videos.pickle\", \"wb\" ) )"
   ]
  },
  {
   "cell_type": "code",
   "execution_count": 9,
   "metadata": {
    "collapsed": false
   },
   "outputs": [
    {
     "name": "stdout",
     "output_type": "stream",
     "text": [
      "124\n",
      "33.6298\n",
      "(4096,)\n"
     ]
    }
   ],
   "source": [
    "#from sklearn.preprocessing import normalize\n",
    "print len(result)\n",
    "print np.max(result[0])\n",
    "print result[0].shape\n",
    "normalized_result = []\n",
    "#normalized_result = normalize(result)\n",
    "for r in result:\n",
    "    #normalized_result.append(r/np.max(r))\n",
    "    normalized_result.append((r-np.mean(r))/np.std(r))"
   ]
  },
  {
   "cell_type": "code",
   "execution_count": 10,
   "metadata": {
    "collapsed": true
   },
   "outputs": [],
   "source": [
    "#pickle.dump(normalized_result, open(\"nn_result_fc6_normalized_clf_7videos.pickle\", \"wb\" ) )"
   ]
  },
  {
   "cell_type": "code",
   "execution_count": 11,
   "metadata": {
    "collapsed": false
   },
   "outputs": [
    {
     "name": "stdout",
     "output_type": "stream",
     "text": [
      "124\n",
      "10.2349\n",
      "(4096,)\n",
      "(4096,)\n"
     ]
    }
   ],
   "source": [
    "print len(normalized_result)\n",
    "print np.max(normalized_result[0])\n",
    "print normalized_result[0].shape\n",
    "print result[0].shape\n"
   ]
  },
  {
   "cell_type": "code",
   "execution_count": 12,
   "metadata": {
    "collapsed": false
   },
   "outputs": [
    {
     "name": "stdout",
     "output_type": "stream",
     "text": [
      "X_train: 101; X_test: 23; y_train: 101; y_test: 23\n"
     ]
    }
   ],
   "source": [
    "from sklearn import decomposition\n",
    "\n",
    "traning_set_size = len(training_set['target'])\n",
    "testing_set_size = len(testing_set['target'])\n",
    "#X_train, X_test, y_train, y_test = cross_validation.train_test_split(result, training_set['target'][0:traning_set_size:10], test_size=0.25, random_state=42)\n",
    "#X_train, X_test, y_train, y_test = cross_validation.train_test_split(normalized_result, training_set['target'][0:traning_set_size:10], test_size=0.25, random_state=2)\n",
    "\n",
    "X_train = normalized_result[:traning_set_size/10]\n",
    "X_test = normalized_result[traning_set_size/10:]\n",
    "y_train = training_set['target'][0:traning_set_size:10]\n",
    "y_test = testing_set['target'][0:traning_set_size:10]\n",
    "\n",
    "print 'X_train: %d; X_test: %d; y_train: %d; y_test: %d'%(len(X_train), len(X_test), len(y_train), len(y_test))"
   ]
  },
  {
   "cell_type": "code",
   "execution_count": 13,
   "metadata": {
    "collapsed": false
   },
   "outputs": [
    {
     "name": "stdout",
     "output_type": "stream",
     "text": [
      "C = 1e-05, Cross validation: [ 0.15384615  0.2         0.28        0.2       ]\n",
      "C = 1e-05, Mean value: 0.208462\n",
      "C = 0.001, Cross validation: [ 0.38461538  0.36        0.2         0.4       ]\n",
      "C = 0.001, Mean value: 0.336154\n",
      "C = 0.005, Cross validation: [ 0.5   0.64  0.44  0.68]\n",
      "C = 0.005, Mean value: 0.565\n",
      "C = 0.01, Cross validation: [ 0.5   0.64  0.6   0.52]\n",
      "C = 0.01, Mean value: 0.565\n",
      "C = 0.05, Cross validation: [ 0.53846154  0.4         0.44        0.52      ]\n",
      "C = 0.05, Mean value: 0.474615\n",
      "C = 0.1, Cross validation: [ 0.46153846  0.48        0.56        0.6       ]\n",
      "C = 0.1, Mean value: 0.525385\n",
      "C = 1, Cross validation: [ 0.73076923  0.64        0.52        0.56      ]\n",
      "C = 1, Mean value: 0.612692\n",
      "C = 10, Cross validation: [ 0.65384615  0.36        0.6         0.6       ]\n",
      "C = 10, Mean value: 0.553462\n",
      "C = 100, Cross validation: [ 0.42307692  0.48        0.48        0.44      ]\n",
      "C = 100, Mean value: 0.455769\n",
      "C = 1000, Cross validation: [ 0.53846154  0.56        0.64        0.32      ]\n",
      "C = 1000, Mean value: 0.514615\n"
     ]
    }
   ],
   "source": [
    "for c in [0.00001, 0.001, 0.005, 0.01, 0.05, 0.1, 1, 10, 100, 1000]:\n",
    "    svc = svm.SVC(kernel='linear', C=c) \n",
    "    kfold = cross_validation.KFold(len(X_train), n_folds=4, shuffle=True)\n",
    "    cv_result = cross_validation.cross_val_score(svc, X_train, y_train, cv=kfold, n_jobs=1)\n",
    "    print 'C = %g, Cross validation: %s'%(c, cv_result)\n",
    "    print 'C = %g, Mean value: %g'%(c, np.mean(cv_result))"
   ]
  },
  {
   "cell_type": "code",
   "execution_count": 14,
   "metadata": {
    "collapsed": false
   },
   "outputs": [
    {
     "name": "stdout",
     "output_type": "stream",
     "text": [
      "C = 0.01, Cross validation: [ 0.23076923  0.2         0.2         0.2       ]\n",
      "C = 0.01, Mean value: 0.207692\n",
      "C = 0.05, Cross validation: [ 0.19230769  0.08        0.24        0.12      ]\n",
      "C = 0.05, Mean value: 0.158077\n",
      "C = 0.1, Cross validation: [ 0.34615385  0.16        0.2         0.16      ]\n",
      "C = 0.1, Mean value: 0.216538\n",
      "C = 1, Cross validation: [ 0.26923077  0.2         0.16        0.08      ]\n",
      "C = 1, Mean value: 0.177308\n",
      "C = 10, Cross validation: [ 0.42307692  0.64        0.44        0.4       ]\n",
      "C = 10, Mean value: 0.475769\n",
      "C = 100, Cross validation: [ 0.65384615  0.44        0.48        0.76      ]\n",
      "C = 100, Mean value: 0.583462\n",
      "C = 1000, Cross validation: [ 0.53846154  0.4         0.44        0.44      ]\n",
      "C = 1000, Mean value: 0.454615\n",
      "C = 1e+06, Cross validation: [ 0.53846154  0.64        0.6         0.36      ]\n",
      "C = 1e+06, Mean value: 0.534615\n"
     ]
    }
   ],
   "source": [
    "for c in [0.01, 0.05, 0.1, 1, 10, 100, 1000, 1000000]:\n",
    "    svc = svm.SVC(C=c, kernel='poly', degree=1)\n",
    "    kfold = cross_validation.KFold(len(X_train), n_folds=4, shuffle=True)\n",
    "    cv_result = cross_validation.cross_val_score(svc, X_train, y_train, cv=kfold, n_jobs=1)\n",
    "    print 'C = %g, Cross validation: %s'%(c, cv_result)\n",
    "    print 'C = %g, Mean value: %g'%(c, np.mean(cv_result))"
   ]
  },
  {
   "cell_type": "code",
   "execution_count": 15,
   "metadata": {
    "collapsed": false
   },
   "outputs": [
    {
     "name": "stdout",
     "output_type": "stream",
     "text": [
      "C = 0.01, Cross validation: [ 0.15384615  0.2         0.2         0.16      ]\n",
      "C = 0.01, Mean value: 0.178462\n",
      "C = 0.05, Cross validation: [ 0.19230769  0.12        0.08        0.16      ]\n",
      "C = 0.05, Mean value: 0.138077\n",
      "C = 0.1, Cross validation: [ 0.15384615  0.24        0.12        0.24      ]\n",
      "C = 0.1, Mean value: 0.188462\n",
      "C = 1, Cross validation: [ 0.07692308  0.2         0.04        0.16      ]\n",
      "C = 1, Mean value: 0.119231\n",
      "C = 10, Cross validation: [ 0.5   0.56  0.52  0.52]\n",
      "C = 10, Mean value: 0.525\n",
      "C = 100, Cross validation: [ 0.57692308  0.48        0.56        0.56      ]\n",
      "C = 100, Mean value: 0.544231\n",
      "C = 1000, Cross validation: [ 0.46153846  0.16        0.6         0.48      ]\n",
      "C = 1000, Mean value: 0.425385\n",
      "C = 1e+06, Cross validation: [ 0.53846154  0.6         0.52        0.68      ]\n",
      "C = 1e+06, Mean value: 0.584615\n"
     ]
    }
   ],
   "source": [
    "for c in [0.01, 0.05, 0.1, 1, 10, 100, 1000, 1000000]:\n",
    "    svc = svm.SVC(C=c, kernel='poly', degree=2)\n",
    "    kfold = cross_validation.KFold(len(X_train), n_folds=4, shuffle=True)\n",
    "    cv_result = cross_validation.cross_val_score(svc, X_train, y_train, cv=kfold, n_jobs=1)\n",
    "    print 'C = %g, Cross validation: %s'%(c, cv_result)\n",
    "    print 'C = %g, Mean value: %g'%(c, np.mean(cv_result))"
   ]
  },
  {
   "cell_type": "code",
   "execution_count": 16,
   "metadata": {
    "collapsed": false,
    "scrolled": false
   },
   "outputs": [
    {
     "name": "stdout",
     "output_type": "stream",
     "text": [
      "0.0869565217391\n",
      "(8, 8)\n",
      "[[1 0 1 0 0 3 0 0]\n",
      " [1 0 0 0 1 0 0 0]\n",
      " [0 1 0 1 1 0 0 0]\n",
      " [0 1 0 0 0 0 0 0]\n",
      " [0 0 2 0 0 3 1 0]\n",
      " [0 0 0 0 0 1 1 0]\n",
      " [0 0 1 0 0 1 0 0]\n",
      " [0 0 0 0 1 0 1 0]]\n",
      "8\n"
     ]
    },
    {
     "name": "stderr",
     "output_type": "stream",
     "text": [
      "/u/zexuan/.local/lib/python2.7/site-packages/numpy/core/fromnumeric.py:2641: VisibleDeprecationWarning: `rank` is deprecated; use the `ndim` attribute or function instead. To find the rank of a matrix see `numpy.linalg.matrix_rank`.\n",
      "  VisibleDeprecationWarning)\n"
     ]
    }
   ],
   "source": [
    "from sklearn import svm, cross_validation\n",
    "X_train = np.asarray(X_train)\n",
    "svc = svm.SVC(kernel='precomputed')\n",
    "kernel_train = np.dot(X_train, X_train.T)  # linear kernel\n",
    "svc.fit(kernel_train, y_train)\n",
    "\n",
    "# Testing\n",
    "from sklearn.metrics import accuracy_score\n",
    "from sklearn.metrics import confusion_matrix\n",
    "kernel_test = np.dot(X_test, X_train.T)\n",
    "y_pred = svc.predict(kernel_test)\n",
    "print accuracy_score(y_test, y_pred)\n",
    "\n",
    "import pandas as pd\n",
    "y_true = pd.Series(y_test)\n",
    "y_pred = pd.Series(y_pred)\n",
    "\n",
    "#print pd.crosstab(y_true, y_pred, rownames=['True'], colnames=['Predicted'], margins=True)\n",
    "\n",
    "print confusion_matrix(y_test, y_pred).shape\n",
    "print confusion_matrix(y_test, y_pred)\n",
    "#print '\\n'.join(sorted(list(set(y_test))))\n",
    "print len(set(y_test).union(set(y_pred)))"
   ]
  },
  {
   "cell_type": "code",
   "execution_count": 23,
   "metadata": {
    "collapsed": false
   },
   "outputs": [
    {
     "data": {
      "text/plain": [
       "0.086956521739130432"
      ]
     },
     "execution_count": 23,
     "metadata": {},
     "output_type": "execute_result"
    }
   ],
   "source": [
    "clf_best = svm.SVC(C=1, kernel='linear').fit(X_train, y_train)\n",
    "clf_best.score(X_test, y_test)"
   ]
  },
  {
   "cell_type": "code",
   "execution_count": 19,
   "metadata": {
    "collapsed": false
   },
   "outputs": [
    {
     "name": "stdout",
     "output_type": "stream",
     "text": [
      "23\n",
      "23\n",
      "SAME:  C21_TOP_PLAYER_UNDER_NET_selected\n",
      "DIFFERENT:  C26_BOTTOM_PLAYER_HIT_OUT_selected C21_TOP_PLAYER_UNDER_NET_selected\n",
      "DIFFERENT:  C23_TOP_PLAYER_FOREHAND_MISS_HIT_selected C21_TOP_PLAYER_UNDER_NET_selected\n",
      "DIFFERENT:  C26_BOTTOM_PLAYER_HIT_OUT_selected C21_TOP_PLAYER_UNDER_NET_selected\n",
      "DIFFERENT:  C26_BOTTOM_PLAYER_HIT_OUT_selected C21_TOP_PLAYER_UNDER_NET_selected\n",
      "DIFFERENT:  C25_BOTTOM_PLAYER_UNDER_NET_selected C22_TOP_PLAYER_HIT_OUT_selected\n",
      "DIFFERENT:  C21_TOP_PLAYER_UNDER_NET_selected C22_TOP_PLAYER_HIT_OUT_selected\n",
      "DIFFERENT:  C24_TOP_PLAYER_BACKHAND_MISS_HIT_selected C23_TOP_PLAYER_FOREHAND_MISS_HIT_selected\n",
      "DIFFERENT:  C22_TOP_PLAYER_HIT_OUT_selected C23_TOP_PLAYER_FOREHAND_MISS_HIT_selected\n",
      "DIFFERENT:  C25_BOTTOM_PLAYER_UNDER_NET_selected C23_TOP_PLAYER_FOREHAND_MISS_HIT_selected\n",
      "DIFFERENT:  C22_TOP_PLAYER_HIT_OUT_selected C24_TOP_PLAYER_BACKHAND_MISS_HIT_selected\n",
      "DIFFERENT:  C26_BOTTOM_PLAYER_HIT_OUT_selected C25_BOTTOM_PLAYER_UNDER_NET_selected\n",
      "DIFFERENT:  C26_BOTTOM_PLAYER_HIT_OUT_selected C25_BOTTOM_PLAYER_UNDER_NET_selected\n",
      "DIFFERENT:  C27_BOTTOM_PLAYER_FOREHAND_MISS_HIT_selected C25_BOTTOM_PLAYER_UNDER_NET_selected\n",
      "DIFFERENT:  C23_TOP_PLAYER_FOREHAND_MISS_HIT_selected C25_BOTTOM_PLAYER_UNDER_NET_selected\n",
      "DIFFERENT:  C26_BOTTOM_PLAYER_HIT_OUT_selected C25_BOTTOM_PLAYER_UNDER_NET_selected\n",
      "DIFFERENT:  C23_TOP_PLAYER_FOREHAND_MISS_HIT_selected C25_BOTTOM_PLAYER_UNDER_NET_selected\n",
      "DIFFERENT:  C27_BOTTOM_PLAYER_FOREHAND_MISS_HIT_selected C26_BOTTOM_PLAYER_HIT_OUT_selected\n",
      "SAME:  C26_BOTTOM_PLAYER_HIT_OUT_selected\n",
      "DIFFERENT:  C26_BOTTOM_PLAYER_HIT_OUT_selected C27_BOTTOM_PLAYER_FOREHAND_MISS_HIT_selected\n",
      "DIFFERENT:  C23_TOP_PLAYER_FOREHAND_MISS_HIT_selected C27_BOTTOM_PLAYER_FOREHAND_MISS_HIT_selected\n",
      "DIFFERENT:  C25_BOTTOM_PLAYER_UNDER_NET_selected C28_BOTTOM_PLAYER_BACKHAND_MISS_HIT_selected\n",
      "DIFFERENT:  C27_BOTTOM_PLAYER_FOREHAND_MISS_HIT_selected C28_BOTTOM_PLAYER_BACKHAND_MISS_HIT_selected\n"
     ]
    },
    {
     "name": "stderr",
     "output_type": "stream",
     "text": [
      "/u/zexuan/.local/lib/python2.7/site-packages/sklearn/utils/validation.py:386: DeprecationWarning: Passing 1d arrays as data is deprecated in 0.17 and willraise ValueError in 0.19. Reshape your data either using X.reshape(-1, 1) if your data has a single feature or X.reshape(1, -1) if it contains a single sample.\n",
      "  DeprecationWarning)\n",
      "/u/zexuan/.local/lib/python2.7/site-packages/sklearn/utils/validation.py:386: DeprecationWarning: Passing 1d arrays as data is deprecated in 0.17 and willraise ValueError in 0.19. Reshape your data either using X.reshape(-1, 1) if your data has a single feature or X.reshape(1, -1) if it contains a single sample.\n",
      "  DeprecationWarning)\n",
      "/u/zexuan/.local/lib/python2.7/site-packages/sklearn/utils/validation.py:386: DeprecationWarning: Passing 1d arrays as data is deprecated in 0.17 and willraise ValueError in 0.19. Reshape your data either using X.reshape(-1, 1) if your data has a single feature or X.reshape(1, -1) if it contains a single sample.\n",
      "  DeprecationWarning)\n",
      "/u/zexuan/.local/lib/python2.7/site-packages/sklearn/utils/validation.py:386: DeprecationWarning: Passing 1d arrays as data is deprecated in 0.17 and willraise ValueError in 0.19. Reshape your data either using X.reshape(-1, 1) if your data has a single feature or X.reshape(1, -1) if it contains a single sample.\n",
      "  DeprecationWarning)\n",
      "/u/zexuan/.local/lib/python2.7/site-packages/sklearn/utils/validation.py:386: DeprecationWarning: Passing 1d arrays as data is deprecated in 0.17 and willraise ValueError in 0.19. Reshape your data either using X.reshape(-1, 1) if your data has a single feature or X.reshape(1, -1) if it contains a single sample.\n",
      "  DeprecationWarning)\n",
      "/u/zexuan/.local/lib/python2.7/site-packages/sklearn/utils/validation.py:386: DeprecationWarning: Passing 1d arrays as data is deprecated in 0.17 and willraise ValueError in 0.19. Reshape your data either using X.reshape(-1, 1) if your data has a single feature or X.reshape(1, -1) if it contains a single sample.\n",
      "  DeprecationWarning)\n",
      "/u/zexuan/.local/lib/python2.7/site-packages/sklearn/utils/validation.py:386: DeprecationWarning: Passing 1d arrays as data is deprecated in 0.17 and willraise ValueError in 0.19. Reshape your data either using X.reshape(-1, 1) if your data has a single feature or X.reshape(1, -1) if it contains a single sample.\n",
      "  DeprecationWarning)\n",
      "/u/zexuan/.local/lib/python2.7/site-packages/sklearn/utils/validation.py:386: DeprecationWarning: Passing 1d arrays as data is deprecated in 0.17 and willraise ValueError in 0.19. Reshape your data either using X.reshape(-1, 1) if your data has a single feature or X.reshape(1, -1) if it contains a single sample.\n",
      "  DeprecationWarning)\n",
      "/u/zexuan/.local/lib/python2.7/site-packages/sklearn/utils/validation.py:386: DeprecationWarning: Passing 1d arrays as data is deprecated in 0.17 and willraise ValueError in 0.19. Reshape your data either using X.reshape(-1, 1) if your data has a single feature or X.reshape(1, -1) if it contains a single sample.\n",
      "  DeprecationWarning)\n",
      "/u/zexuan/.local/lib/python2.7/site-packages/sklearn/utils/validation.py:386: DeprecationWarning: Passing 1d arrays as data is deprecated in 0.17 and willraise ValueError in 0.19. Reshape your data either using X.reshape(-1, 1) if your data has a single feature or X.reshape(1, -1) if it contains a single sample.\n",
      "  DeprecationWarning)\n",
      "/u/zexuan/.local/lib/python2.7/site-packages/sklearn/utils/validation.py:386: DeprecationWarning: Passing 1d arrays as data is deprecated in 0.17 and willraise ValueError in 0.19. Reshape your data either using X.reshape(-1, 1) if your data has a single feature or X.reshape(1, -1) if it contains a single sample.\n",
      "  DeprecationWarning)\n",
      "/u/zexuan/.local/lib/python2.7/site-packages/sklearn/utils/validation.py:386: DeprecationWarning: Passing 1d arrays as data is deprecated in 0.17 and willraise ValueError in 0.19. Reshape your data either using X.reshape(-1, 1) if your data has a single feature or X.reshape(1, -1) if it contains a single sample.\n",
      "  DeprecationWarning)\n",
      "/u/zexuan/.local/lib/python2.7/site-packages/sklearn/utils/validation.py:386: DeprecationWarning: Passing 1d arrays as data is deprecated in 0.17 and willraise ValueError in 0.19. Reshape your data either using X.reshape(-1, 1) if your data has a single feature or X.reshape(1, -1) if it contains a single sample.\n",
      "  DeprecationWarning)\n",
      "/u/zexuan/.local/lib/python2.7/site-packages/sklearn/utils/validation.py:386: DeprecationWarning: Passing 1d arrays as data is deprecated in 0.17 and willraise ValueError in 0.19. Reshape your data either using X.reshape(-1, 1) if your data has a single feature or X.reshape(1, -1) if it contains a single sample.\n",
      "  DeprecationWarning)\n",
      "/u/zexuan/.local/lib/python2.7/site-packages/sklearn/utils/validation.py:386: DeprecationWarning: Passing 1d arrays as data is deprecated in 0.17 and willraise ValueError in 0.19. Reshape your data either using X.reshape(-1, 1) if your data has a single feature or X.reshape(1, -1) if it contains a single sample.\n",
      "  DeprecationWarning)\n",
      "/u/zexuan/.local/lib/python2.7/site-packages/sklearn/utils/validation.py:386: DeprecationWarning: Passing 1d arrays as data is deprecated in 0.17 and willraise ValueError in 0.19. Reshape your data either using X.reshape(-1, 1) if your data has a single feature or X.reshape(1, -1) if it contains a single sample.\n",
      "  DeprecationWarning)\n",
      "/u/zexuan/.local/lib/python2.7/site-packages/sklearn/utils/validation.py:386: DeprecationWarning: Passing 1d arrays as data is deprecated in 0.17 and willraise ValueError in 0.19. Reshape your data either using X.reshape(-1, 1) if your data has a single feature or X.reshape(1, -1) if it contains a single sample.\n",
      "  DeprecationWarning)\n",
      "/u/zexuan/.local/lib/python2.7/site-packages/sklearn/utils/validation.py:386: DeprecationWarning: Passing 1d arrays as data is deprecated in 0.17 and willraise ValueError in 0.19. Reshape your data either using X.reshape(-1, 1) if your data has a single feature or X.reshape(1, -1) if it contains a single sample.\n",
      "  DeprecationWarning)\n",
      "/u/zexuan/.local/lib/python2.7/site-packages/sklearn/utils/validation.py:386: DeprecationWarning: Passing 1d arrays as data is deprecated in 0.17 and willraise ValueError in 0.19. Reshape your data either using X.reshape(-1, 1) if your data has a single feature or X.reshape(1, -1) if it contains a single sample.\n",
      "  DeprecationWarning)\n",
      "/u/zexuan/.local/lib/python2.7/site-packages/sklearn/utils/validation.py:386: DeprecationWarning: Passing 1d arrays as data is deprecated in 0.17 and willraise ValueError in 0.19. Reshape your data either using X.reshape(-1, 1) if your data has a single feature or X.reshape(1, -1) if it contains a single sample.\n",
      "  DeprecationWarning)\n",
      "/u/zexuan/.local/lib/python2.7/site-packages/sklearn/utils/validation.py:386: DeprecationWarning: Passing 1d arrays as data is deprecated in 0.17 and willraise ValueError in 0.19. Reshape your data either using X.reshape(-1, 1) if your data has a single feature or X.reshape(1, -1) if it contains a single sample.\n",
      "  DeprecationWarning)\n",
      "/u/zexuan/.local/lib/python2.7/site-packages/sklearn/utils/validation.py:386: DeprecationWarning: Passing 1d arrays as data is deprecated in 0.17 and willraise ValueError in 0.19. Reshape your data either using X.reshape(-1, 1) if your data has a single feature or X.reshape(1, -1) if it contains a single sample.\n",
      "  DeprecationWarning)\n",
      "/u/zexuan/.local/lib/python2.7/site-packages/sklearn/utils/validation.py:386: DeprecationWarning: Passing 1d arrays as data is deprecated in 0.17 and willraise ValueError in 0.19. Reshape your data either using X.reshape(-1, 1) if your data has a single feature or X.reshape(1, -1) if it contains a single sample.\n",
      "  DeprecationWarning)\n",
      "/u/zexuan/.local/lib/python2.7/site-packages/sklearn/utils/validation.py:386: DeprecationWarning: Passing 1d arrays as data is deprecated in 0.17 and willraise ValueError in 0.19. Reshape your data either using X.reshape(-1, 1) if your data has a single feature or X.reshape(1, -1) if it contains a single sample.\n",
      "  DeprecationWarning)\n",
      "/u/zexuan/.local/lib/python2.7/site-packages/sklearn/utils/validation.py:386: DeprecationWarning: Passing 1d arrays as data is deprecated in 0.17 and willraise ValueError in 0.19. Reshape your data either using X.reshape(-1, 1) if your data has a single feature or X.reshape(1, -1) if it contains a single sample.\n",
      "  DeprecationWarning)\n",
      "/u/zexuan/.local/lib/python2.7/site-packages/sklearn/utils/validation.py:386: DeprecationWarning: Passing 1d arrays as data is deprecated in 0.17 and willraise ValueError in 0.19. Reshape your data either using X.reshape(-1, 1) if your data has a single feature or X.reshape(1, -1) if it contains a single sample.\n",
      "  DeprecationWarning)\n",
      "/u/zexuan/.local/lib/python2.7/site-packages/sklearn/utils/validation.py:386: DeprecationWarning: Passing 1d arrays as data is deprecated in 0.17 and willraise ValueError in 0.19. Reshape your data either using X.reshape(-1, 1) if your data has a single feature or X.reshape(1, -1) if it contains a single sample.\n",
      "  DeprecationWarning)\n",
      "/u/zexuan/.local/lib/python2.7/site-packages/sklearn/utils/validation.py:386: DeprecationWarning: Passing 1d arrays as data is deprecated in 0.17 and willraise ValueError in 0.19. Reshape your data either using X.reshape(-1, 1) if your data has a single feature or X.reshape(1, -1) if it contains a single sample.\n",
      "  DeprecationWarning)\n",
      "/u/zexuan/.local/lib/python2.7/site-packages/sklearn/utils/validation.py:386: DeprecationWarning: Passing 1d arrays as data is deprecated in 0.17 and willraise ValueError in 0.19. Reshape your data either using X.reshape(-1, 1) if your data has a single feature or X.reshape(1, -1) if it contains a single sample.\n",
      "  DeprecationWarning)\n",
      "/u/zexuan/.local/lib/python2.7/site-packages/sklearn/utils/validation.py:386: DeprecationWarning: Passing 1d arrays as data is deprecated in 0.17 and willraise ValueError in 0.19. Reshape your data either using X.reshape(-1, 1) if your data has a single feature or X.reshape(1, -1) if it contains a single sample.\n",
      "  DeprecationWarning)\n",
      "/u/zexuan/.local/lib/python2.7/site-packages/sklearn/utils/validation.py:386: DeprecationWarning: Passing 1d arrays as data is deprecated in 0.17 and willraise ValueError in 0.19. Reshape your data either using X.reshape(-1, 1) if your data has a single feature or X.reshape(1, -1) if it contains a single sample.\n",
      "  DeprecationWarning)\n",
      "/u/zexuan/.local/lib/python2.7/site-packages/sklearn/utils/validation.py:386: DeprecationWarning: Passing 1d arrays as data is deprecated in 0.17 and willraise ValueError in 0.19. Reshape your data either using X.reshape(-1, 1) if your data has a single feature or X.reshape(1, -1) if it contains a single sample.\n",
      "  DeprecationWarning)\n",
      "/u/zexuan/.local/lib/python2.7/site-packages/sklearn/utils/validation.py:386: DeprecationWarning: Passing 1d arrays as data is deprecated in 0.17 and willraise ValueError in 0.19. Reshape your data either using X.reshape(-1, 1) if your data has a single feature or X.reshape(1, -1) if it contains a single sample.\n",
      "  DeprecationWarning)\n",
      "/u/zexuan/.local/lib/python2.7/site-packages/sklearn/utils/validation.py:386: DeprecationWarning: Passing 1d arrays as data is deprecated in 0.17 and willraise ValueError in 0.19. Reshape your data either using X.reshape(-1, 1) if your data has a single feature or X.reshape(1, -1) if it contains a single sample.\n",
      "  DeprecationWarning)\n",
      "/u/zexuan/.local/lib/python2.7/site-packages/sklearn/utils/validation.py:386: DeprecationWarning: Passing 1d arrays as data is deprecated in 0.17 and willraise ValueError in 0.19. Reshape your data either using X.reshape(-1, 1) if your data has a single feature or X.reshape(1, -1) if it contains a single sample.\n",
      "  DeprecationWarning)\n",
      "/u/zexuan/.local/lib/python2.7/site-packages/sklearn/utils/validation.py:386: DeprecationWarning: Passing 1d arrays as data is deprecated in 0.17 and willraise ValueError in 0.19. Reshape your data either using X.reshape(-1, 1) if your data has a single feature or X.reshape(1, -1) if it contains a single sample.\n",
      "  DeprecationWarning)\n",
      "/u/zexuan/.local/lib/python2.7/site-packages/sklearn/utils/validation.py:386: DeprecationWarning: Passing 1d arrays as data is deprecated in 0.17 and willraise ValueError in 0.19. Reshape your data either using X.reshape(-1, 1) if your data has a single feature or X.reshape(1, -1) if it contains a single sample.\n",
      "  DeprecationWarning)\n",
      "/u/zexuan/.local/lib/python2.7/site-packages/sklearn/utils/validation.py:386: DeprecationWarning: Passing 1d arrays as data is deprecated in 0.17 and willraise ValueError in 0.19. Reshape your data either using X.reshape(-1, 1) if your data has a single feature or X.reshape(1, -1) if it contains a single sample.\n",
      "  DeprecationWarning)\n",
      "/u/zexuan/.local/lib/python2.7/site-packages/sklearn/utils/validation.py:386: DeprecationWarning: Passing 1d arrays as data is deprecated in 0.17 and willraise ValueError in 0.19. Reshape your data either using X.reshape(-1, 1) if your data has a single feature or X.reshape(1, -1) if it contains a single sample.\n",
      "  DeprecationWarning)\n",
      "/u/zexuan/.local/lib/python2.7/site-packages/sklearn/utils/validation.py:386: DeprecationWarning: Passing 1d arrays as data is deprecated in 0.17 and willraise ValueError in 0.19. Reshape your data either using X.reshape(-1, 1) if your data has a single feature or X.reshape(1, -1) if it contains a single sample.\n",
      "  DeprecationWarning)\n",
      "/u/zexuan/.local/lib/python2.7/site-packages/sklearn/utils/validation.py:386: DeprecationWarning: Passing 1d arrays as data is deprecated in 0.17 and willraise ValueError in 0.19. Reshape your data either using X.reshape(-1, 1) if your data has a single feature or X.reshape(1, -1) if it contains a single sample.\n",
      "  DeprecationWarning)\n",
      "/u/zexuan/.local/lib/python2.7/site-packages/sklearn/utils/validation.py:386: DeprecationWarning: Passing 1d arrays as data is deprecated in 0.17 and willraise ValueError in 0.19. Reshape your data either using X.reshape(-1, 1) if your data has a single feature or X.reshape(1, -1) if it contains a single sample.\n",
      "  DeprecationWarning)\n",
      "/u/zexuan/.local/lib/python2.7/site-packages/sklearn/utils/validation.py:386: DeprecationWarning: Passing 1d arrays as data is deprecated in 0.17 and willraise ValueError in 0.19. Reshape your data either using X.reshape(-1, 1) if your data has a single feature or X.reshape(1, -1) if it contains a single sample.\n",
      "  DeprecationWarning)\n",
      "/u/zexuan/.local/lib/python2.7/site-packages/sklearn/utils/validation.py:386: DeprecationWarning: Passing 1d arrays as data is deprecated in 0.17 and willraise ValueError in 0.19. Reshape your data either using X.reshape(-1, 1) if your data has a single feature or X.reshape(1, -1) if it contains a single sample.\n",
      "  DeprecationWarning)\n",
      "/u/zexuan/.local/lib/python2.7/site-packages/sklearn/utils/validation.py:386: DeprecationWarning: Passing 1d arrays as data is deprecated in 0.17 and willraise ValueError in 0.19. Reshape your data either using X.reshape(-1, 1) if your data has a single feature or X.reshape(1, -1) if it contains a single sample.\n",
      "  DeprecationWarning)\n",
      "/u/zexuan/.local/lib/python2.7/site-packages/sklearn/utils/validation.py:386: DeprecationWarning: Passing 1d arrays as data is deprecated in 0.17 and willraise ValueError in 0.19. Reshape your data either using X.reshape(-1, 1) if your data has a single feature or X.reshape(1, -1) if it contains a single sample.\n",
      "  DeprecationWarning)\n"
     ]
    }
   ],
   "source": [
    "print len(X_test)\n",
    "print len(y_test)\n",
    "for i,_ in enumerate(X_test):\n",
    "    if clf_best.predict(X_test[i])[0] == y_test[i]:\n",
    "        print 'SAME: ', clf_best.predict(X_test[i])[0]\n",
    "    else:\n",
    "        print 'DIFFERENT: ', clf_best.predict(X_test[i])[0], y_test[i]\n",
    "        "
   ]
  },
  {
   "cell_type": "code",
   "execution_count": 36,
   "metadata": {
    "collapsed": false
   },
   "outputs": [
    {
     "name": "stdout",
     "output_type": "stream",
     "text": [
      "Cross validataion result [ 0.26923077  0.2         0.36        0.2       ] . Avg: 0.257307692308\n",
      "Testing result 0.130434782609\n"
     ]
    }
   ],
   "source": [
    "from sklearn.neighbors import KNeighborsClassifier\n",
    "neigh = KNeighborsClassifier(n_neighbors=3)\n",
    "\n",
    "kfold = cross_validation.KFold(len(X_train), n_folds=4, shuffle=True)\n",
    "cv_result = cross_validation.cross_val_score(neigh, X_train, y_train, cv=kfold, n_jobs=1)\n",
    "\n",
    "print 'Cross validataion result', cv_result, '. Avg:', np.mean(cv_result)\n",
    "    \n",
    "clf = neigh.fit(X_train, y_train)\n",
    "print 'Testing result', clf.score(X_test, y_test)"
   ]
  },
  {
   "cell_type": "code",
   "execution_count": 21,
   "metadata": {
    "collapsed": false
   },
   "outputs": [
    {
     "name": "stdout",
     "output_type": "stream",
     "text": [
      "Cross validataion result [ 0.42307692  0.36        0.4         0.4       ] . Avg: 0.395769230769\n",
      "Testing result 0.130434782609\n"
     ]
    }
   ],
   "source": [
    "from sklearn.naive_bayes import GaussianNB\n",
    "gnb = GaussianNB()\n",
    "cv_result = cross_validation.cross_val_score(gnb, X_train, y_train, cv=kfold, n_jobs=1)\n",
    "print 'Cross validataion result', cv_result, '. Avg:', np.mean(cv_result)\n",
    "\n",
    "clf = gnb.fit(X_train, y_train)\n",
    "print 'Testing result', clf.score(X_test, y_test)"
   ]
  },
  {
   "cell_type": "code",
   "execution_count": 22,
   "metadata": {
    "collapsed": false
   },
   "outputs": [
    {
     "name": "stdout",
     "output_type": "stream",
     "text": [
      "Cross validataion result [ 0.42307692  0.36        0.4         0.72      ] . Avg: 0.475769230769\n",
      "Testing result 0.0869565217391\n"
     ]
    }
   ],
   "source": [
    "from sklearn.linear_model import LogisticRegression\n",
    "lr = LogisticRegression()\n",
    "cv_result = cross_validation.cross_val_score(lr, X_train, y_train, cv=kfold, n_jobs=1)\n",
    "print 'Cross validataion result', cv_result, '. Avg:', np.mean(cv_result)\n",
    "\n",
    "clf = lr.fit(X_train, y_train)\n",
    "print 'Testing result', clf.score(X_test, y_test)"
   ]
  },
  {
   "cell_type": "code",
   "execution_count": 24,
   "metadata": {
    "collapsed": false
   },
   "outputs": [
    {
     "name": "stdout",
     "output_type": "stream",
     "text": [
      "[-0.04419233  7.54528666 -0.295926   ..., -0.295926   -0.295926   -0.295926  ]\n",
      "['C21_TOP_PLAYER_UNDER_NET_selected']\n"
     ]
    },
    {
     "name": "stderr",
     "output_type": "stream",
     "text": [
      "/u/zexuan/.local/lib/python2.7/site-packages/sklearn/utils/validation.py:386: DeprecationWarning: Passing 1d arrays as data is deprecated in 0.17 and willraise ValueError in 0.19. Reshape your data either using X.reshape(-1, 1) if your data has a single feature or X.reshape(1, -1) if it contains a single sample.\n",
      "  DeprecationWarning)\n"
     ]
    }
   ],
   "source": [
    "#predict_probability = clf.predict_proba(X_test)\n",
    "#print predict_probability[0]\n",
    "#print sum(predict_probability[0]\n",
    "\n",
    "print X_test[0]\n",
    "print clf.predict(X_test[0])"
   ]
  },
  {
   "cell_type": "code",
   "execution_count": null,
   "metadata": {
    "collapsed": true
   },
   "outputs": [],
   "source": [
    "pickle.dump(clf, open(\"fc6_normalized_lr_clf_7videos_winning_cls.pickle\", \"wb\" ) )"
   ]
  },
  {
   "cell_type": "code",
   "execution_count": null,
   "metadata": {
    "collapsed": false
   },
   "outputs": [],
   "source": []
  },
  {
   "cell_type": "code",
   "execution_count": null,
   "metadata": {
    "collapsed": true
   },
   "outputs": [],
   "source": []
  },
  {
   "cell_type": "code",
   "execution_count": null,
   "metadata": {
    "collapsed": true
   },
   "outputs": [],
   "source": []
  },
  {
   "cell_type": "code",
   "execution_count": null,
   "metadata": {
    "collapsed": false
   },
   "outputs": [],
   "source": []
  },
  {
   "cell_type": "code",
   "execution_count": null,
   "metadata": {
    "collapsed": false
   },
   "outputs": [],
   "source": []
  },
  {
   "cell_type": "code",
   "execution_count": null,
   "metadata": {
    "collapsed": true
   },
   "outputs": [],
   "source": []
  },
  {
   "cell_type": "code",
   "execution_count": null,
   "metadata": {
    "collapsed": false
   },
   "outputs": [],
   "source": []
  }
 ],
 "metadata": {
  "kernelspec": {
   "display_name": "Python 2",
   "language": "python",
   "name": "python2"
  },
  "language_info": {
   "codemirror_mode": {
    "name": "ipython",
    "version": 2
   },
   "file_extension": ".py",
   "mimetype": "text/x-python",
   "name": "python",
   "nbconvert_exporter": "python",
   "pygments_lexer": "ipython2",
   "version": "2.7.6"
  }
 },
 "nbformat": 4,
 "nbformat_minor": 0
}
