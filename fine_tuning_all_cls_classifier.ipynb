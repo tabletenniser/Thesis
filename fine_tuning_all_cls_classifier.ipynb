{
 "cells": [
  {
   "cell_type": "code",
   "execution_count": 1,
   "metadata": {
    "collapsed": false
   },
   "outputs": [
    {
     "name": "stderr",
     "output_type": "stream",
     "text": [
      "/usr/lib/pymodules/python2.7/matplotlib/__init__.py:1173: UserWarning:  This call to matplotlib.use() has no effect\n",
      "because the backend has already been chosen;\n",
      "matplotlib.use() must be called *before* pylab, matplotlib.pyplot,\n",
      "or matplotlib.backends is imported for the first time.\n",
      "\n",
      "  warnings.warn(_use_error_msg)\n"
     ]
    }
   ],
   "source": [
    "%matplotlib inline\n",
    "import matplotlib\n",
    "import matplotlib.pyplot as plt\n",
    "matplotlib.use('Agg')\n",
    "from sklearn import svm, cross_validation\n",
    "import pylab as pl\n",
    "from PIL import Image\n",
    "import numpy as np\n",
    "import os\n",
    "import time\n",
    "# Make sure that caffe is on the python path:\n",
    "caffe_root = '/u/zexuan/caffe/caffe/'  # this file is expected to be in {caffe_root}/examples\n",
    "caffe_real_root = '/pkgs/caffe/'\n",
    "thesis_root = '/ais/gobi2/pingpong/thesis/'\n",
    "#!ls /pkgs/caffe\n",
    "import sys\n",
    "sys.path.insert(0, caffe_real_root + 'python')\n",
    "import caffe"
   ]
  },
  {
   "cell_type": "code",
   "execution_count": 2,
   "metadata": {
    "collapsed": false
   },
   "outputs": [
    {
     "name": "stdout",
     "output_type": "stream",
     "text": [
      "/h/14/zexuan/caffe/caffe/data/ilsvrc12\n",
      "Downloading...\n",
      "--2016-04-19 23:39:13--  http://dl.caffe.berkeleyvision.org/caffe_ilsvrc12.tar.gz\n",
      "Resolving dl.caffe.berkeleyvision.org (dl.caffe.berkeleyvision.org)... 169.229.222.251\n",
      "Connecting to dl.caffe.berkeleyvision.org (dl.caffe.berkeleyvision.org)|169.229.222.251|:80... connected.\n",
      "HTTP request sent, awaiting response... 200 OK\n",
      "Length: 17858008 (17M) [application/octet-stream]\n",
      "Saving to: ‘caffe_ilsvrc12.tar.gz’\n",
      "\n",
      "100%[======================================>] 17,858,008  10.1MB/s   in 1.7s   \n",
      "\n",
      "2016-04-19 23:39:15 (10.1 MB/s) - ‘caffe_ilsvrc12.tar.gz’ saved [17858008/17858008]\n",
      "\n",
      "Unzipping...\n",
      "Done.\n"
     ]
    }
   ],
   "source": [
    "# Download the caffenet model to models/bvlc_reference_caffenet directory\n",
    "!/u/zexuan/caffe/caffe/data/ilsvrc12/get_ilsvrc_aux.sh\n",
    "if not os.path.isfile('/u/zexuan/caffe/caffe/models/bvlc_reference_caffenet/bvlc_reference_caffenet.caffemodel'):\n",
    "    print(\"Downloading pre-trained CaffeNet model...\")\n",
    "    !~/caffe/caffe/scripts/download_model_binary.py ~/caffe/caffe/models/bvlc_reference_caffenet"
   ]
  },
  {
   "cell_type": "code",
   "execution_count": 3,
   "metadata": {
    "collapsed": false
   },
   "outputs": [
    {
     "name": "stdout",
     "output_type": "stream",
     "text": [
      "Downloading 2000 images with 23 workers...\n",
      "Writing train/val for 2000 successfully downloaded images.\n"
     ]
    }
   ],
   "source": [
    "# Download training data into data/flickr_style directory and labels into train.txt and test.txt\n",
    "!python ~/caffe/caffe/examples/finetune_flickr_style/assemble_data.py \\\n",
    "    --workers=-1 --images=2000 --seed=1701 --label=5"
   ]
  },
  {
   "cell_type": "code",
   "execution_count": null,
   "metadata": {
    "collapsed": false
   },
   "outputs": [],
   "source": [
    "#For your record, if you want to train the network in pure C++ tools, here is the command:\n",
    "# build/tools/caffe train \\\n",
    "#     -solver models/finetune_flickr_style/solver.prototxt \\\n",
    "#     -weights models/bvlc_reference_caffenet/bvlc_reference_caffenet.caffemodel \\\n",
    "#     -gpu 0\n",
    "\n",
    "niter = 2000\n",
    "# losses will also be stored in the log\n",
    "train_loss = np.zeros(niter)\n",
    "scratch_train_loss = np.zeros(niter)\n",
    "\n",
    "caffe.set_device(0)\n",
    "caffe.set_mode_gpu()\n",
    "#caffe.set_mode_cpu()\n"
   ]
  },
  {
   "cell_type": "code",
   "execution_count": null,
   "metadata": {
    "collapsed": false
   },
   "outputs": [],
   "source": [
    "start_time = time.time()\n",
    "#solver = caffe.SGDSolver('/u/zexuan/caffe/caffe/models/finetune_flickr_style/solver.prototxt')\n",
    "solver = caffe.SGDSolver('/u/zexuan/caffe/caffe/models/finetune_stroke_cls/solver.prototxt')\n",
    "solver.net.copy_from('/u/zexuan/caffe/caffe/models/bvlc_reference_caffenet/bvlc_reference_caffenet.caffemodel')\n",
    "# For reference, we also create a solver that does no finetuning.\n",
    "#scratch_solver = caffe.SGDSolver('/u/zexuan/caffe/caffe/models/finetune_flickr_style/solver.prototxt')\n",
    "scratch_solver = caffe.SGDSolver('/u/zexuan/caffe/caffe/models/finetune_stroke_cls/solver.prototxt')\n",
    "\n",
    "# We run the solver for niter times, and record the training loss.\n",
    "\n",
    "for it in range(niter):\n",
    "    solver.step(1)  # SGD by Caffe\n",
    "    scratch_solver.step(1)\n",
    "    # store the train loss\n",
    "    train_loss[it] = solver.net.blobs['loss'].data\n",
    "    scratch_train_loss[it] = scratch_solver.net.blobs['loss'].data\n",
    "    if it % 5 == 0:\n",
    "        print 'iter %d, finetune_loss=%f, scratch_loss=%f' % (it, train_loss[it], scratch_train_loss[it])\n",
    "        \n",
    "        test_iters = 10\n",
    "        accuracy = 0\n",
    "        scratch_accuracy = 0\n",
    "        for it in np.arange(test_iters):\n",
    "            solver.test_nets[0].forward()\n",
    "            #solver.net.forward()\n",
    "            accuracy += solver.test_nets[0].blobs['accuracy'].data\n",
    "            scratch_solver.test_nets[0].forward()\n",
    "            #scratch_solver.net.forward()\n",
    "            scratch_accuracy += scratch_solver.test_nets[0].blobs['accuracy'].data\n",
    "        accuracy /= test_iters\n",
    "        scratch_accuracy /= test_iters\n",
    "        print '\\tAccuracy for fine-tuning:', accuracy\n",
    "        print '\\tAccuracy for training from scratch:', scratch_accuracy\n",
    "\n",
    "print 'Finish with total time: %g seconds'%(time.time()-start_time)"
   ]
  },
  {
   "cell_type": "code",
   "execution_count": null,
   "metadata": {
    "collapsed": false
   },
   "outputs": [],
   "source": [
    "pl.plot(np.vstack([train_loss, scratch_train_loss]).clip(0, 4).T)"
   ]
  },
  {
   "cell_type": "code",
   "execution_count": null,
   "metadata": {
    "collapsed": false
   },
   "outputs": [],
   "source": [
    "test_iters = 10\n",
    "accuracy = 0\n",
    "scratch_accuracy = 0\n",
    "for it in np.arange(test_iters):\n",
    "    solver.test_nets[0].forward()\n",
    "    #solver.net.forward()\n",
    "    accuracy += solver.test_nets[0].blobs['accuracy'].data\n",
    "    scratch_solver.test_nets[0].forward()\n",
    "    #scratch_solver.net.forward()\n",
    "    scratch_accuracy += scratch_solver.test_nets[0].blobs['accuracy'].data\n",
    "accuracy /= test_iters\n",
    "scratch_accuracy /= test_iters\n",
    "print 'Accuracy for fine-tuning:', accuracy\n",
    "print 'Accuracy for training from scratch:', scratch_accuracy"
   ]
  },
  {
   "cell_type": "code",
   "execution_count": null,
   "metadata": {
    "collapsed": false
   },
   "outputs": [],
   "source": [
    "#dir(solver.test_nets[1])\n",
    "solver.net.save('fine_tune_stroke_cls_2000iter.caffemodel')\n",
    "solver.test_nets[0].save('fine_tune_stroke_cls_testnet_2000iter.caffemodel')\n",
    "scratch_solver.net.save('fine_tune_stroke_cls_scratch_2000iter.caffemodel')\n",
    "scratch_solver.test_nets[0].save('fine_tune_stroke_cls_testnet_scratch_2000iter.caffemodel')"
   ]
  },
  {
   "cell_type": "code",
   "execution_count": null,
   "metadata": {
    "collapsed": true
   },
   "outputs": [],
   "source": []
  }
 ],
 "metadata": {
  "kernelspec": {
   "display_name": "Python 2",
   "language": "python",
   "name": "python2"
  },
  "language_info": {
   "codemirror_mode": {
    "name": "ipython",
    "version": 2
   },
   "file_extension": ".py",
   "mimetype": "text/x-python",
   "name": "python",
   "nbconvert_exporter": "python",
   "pygments_lexer": "ipython2",
   "version": "2.7.6"
  }
 },
 "nbformat": 4,
 "nbformat_minor": 0
}
