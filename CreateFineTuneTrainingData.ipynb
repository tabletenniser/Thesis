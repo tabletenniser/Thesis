{
 "cells": [
  {
   "cell_type": "code",
   "execution_count": 14,
   "metadata": {
    "collapsed": false
   },
   "outputs": [],
   "source": [
    "import os\n",
    "from os import listdir\n",
    "from os.path import isdir\n",
    "from os.path import join\n",
    "\n",
    "#dataSrcFolder = '/ais/gobi2/pingpong/thesis/labeled_img_selected_all_classes'\n",
    "dataSrcFolder = '/ais/gobi2/pingpong/thesis/labeled_img_selected_all_classes_testset'\n",
    "#outFile = 'training.txt'\n",
    "outFile = 'testing.txt'"
   ]
  },
  {
   "cell_type": "code",
   "execution_count": 15,
   "metadata": {
    "collapsed": true
   },
   "outputs": [],
   "source": [
    "label_to_index={\n",
    "        'C10_TOP_PLAYER_BACKHAND_BLOCK':0,\n",
    "        'C11_BOTTOM_PLAYER_FOREHAND_BLOCK':1,\n",
    "        'C12_BOTTOM_PLAYER_BACKHAND_BLOCK':2,\n",
    "        'C13_TOP_PLAYER_FOREHAND_FLIP':3,\n",
    "        'C14_TOP_PLAYER_BACKHAND_FLIP':4,\n",
    "        'C15_BOTTOM_PLAYER_FOREHAND_FLIP':5,\n",
    "        'C16_BOTTOM_PLAYER_BACKHAND_FLIP':6,\n",
    "        'C17_TOP_PLAYER_FOREHAND_CHOP':7,\n",
    "        'C18_TOP_PLAYER_BACKHAND_CHOP':8,\n",
    "        'C19_BOTTOM_PLAYER_FOREHAND_CHOP':9,\n",
    "        'C1_TOP_PLAYER_FOREHAND_SERVE':10,\n",
    "        'C20_BOTTOM_PLAYER_BACKHAND_CHOP':11,\n",
    "        'C2_TOP_PLAYER_BACKHAND_SERVE':12,\n",
    "        'C3_BOTTOM_PLAYER_FOREHAND_SERVE':13,\n",
    "        'C4_BOTTOM_PLAYER_BACKHAND_SERVE':14,\n",
    "        'C5_TOP_PLAYER_FOREHAND_LOOP':15,\n",
    "        'C6_TOP_PLAYER_BACKHAND_LOOP':16,\n",
    "        'C7_BOTTOM_PLAYER_FOREHAND_LOOP':17,\n",
    "        'C8_BOTTOM_PLAYER_BACKHAND_LOOP':18,\n",
    "        'C9_TOP_PLAYER_FOREHAND_BLOCK':19}"
   ]
  },
  {
   "cell_type": "code",
   "execution_count": 16,
   "metadata": {
    "collapsed": false
   },
   "outputs": [
    {
     "name": "stdout",
     "output_type": "stream",
     "text": [
      "Finish writing to testing.txt\n"
     ]
    }
   ],
   "source": [
    "dataSrcFolder = os.path.abspath(dataSrcFolder)\n",
    "cls_folders = [f for f in sorted(listdir(dataSrcFolder)) if isdir(join(dataSrcFolder,f))]\n",
    "index = 0\n",
    "\n",
    "with open(outFile, 'w+') as out_file:\n",
    "    for cls_folder in cls_folders:\n",
    "        cls_folder_path = os.path.join(dataSrcFolder, cls_folder)\n",
    "        cls_folder_name = cls_folder.replace(\"_selected\", \"\")\n",
    "        img_files = [join(cls_folder_path, fl) for fl in sorted(listdir(cls_folder_path)) if 'png' in fl]\n",
    "        for pic in img_files:\n",
    "            if not pic.endswith('png'):\n",
    "                continue\n",
    "            if index % 4 == 0:\n",
    "                out_file.write(\"%s %d\\n\"%(pic, label_to_index[cls_folder_name]))\n",
    "            index += 1\n",
    "            \n",
    "print \"Finish writing to %s\"%(outFile)"
   ]
  },
  {
   "cell_type": "code",
   "execution_count": null,
   "metadata": {
    "collapsed": true
   },
   "outputs": [],
   "source": []
  }
 ],
 "metadata": {
  "kernelspec": {
   "display_name": "Python 2",
   "language": "python",
   "name": "python2"
  },
  "language_info": {
   "codemirror_mode": {
    "name": "ipython",
    "version": 2
   },
   "file_extension": ".py",
   "mimetype": "text/x-python",
   "name": "python",
   "nbconvert_exporter": "python",
   "pygments_lexer": "ipython2",
   "version": "2.7.6"
  }
 },
 "nbformat": 4,
 "nbformat_minor": 0
}
